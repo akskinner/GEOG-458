{
 "metadata": {
  "name": "skinnerlab1.ipynb"
 },
 "nbformat": 3,
 "nbformat_minor": 0,
 "worksheets": [
  {
   "cells": [
    {
     "cell_type": "markdown",
     "metadata": {},
     "source": [
      "## Code written by Alex Skinner\n",
      "\n",
      "Collaborated with Nick Short\n",
      "\n",
      "GEOG 458"
     ]
    },
    {
     "cell_type": "code",
     "collapsed": false,
     "input": [
      "#importing arcpy so ArcGIS commands can be called and used\n",
      "sys.path.append('C:\\\\Program Files (x86)\\\\ArcGIS\\\\Desktop10.2\\\\bin')\n",
      "sys.path.append('C:\\\\Program Files (x86)\\\\ArcGIS\\\\Desktop10.2\\\\arcpy')\n",
      "sys.path.append('C:\\\\Program Files (x86)\\\\ArcGIS\\\\Desktop10.2\\\\ArcToolbox\\\\Scripts')\n",
      "import arcpy"
     ],
     "language": "python",
     "metadata": {},
     "outputs": [],
     "prompt_number": 4
    },
    {
     "cell_type": "code",
     "collapsed": false,
     "input": [
      "#setting workspace as a variable]\n",
      "arcpy.env.workspace = \"H:/GEOG_458/Labs/Lab1\"\n",
      "work_loacation = arcpy.env.workspace\n"
     ],
     "language": "python",
     "metadata": {},
     "outputs": [],
     "prompt_number": 5
    },
    {
     "cell_type": "code",
     "collapsed": false,
     "input": [
      "# copying the initial census block and county name files for modification \n",
      "##arcpy.CopyFeatures_management(\"saep_bg10.shp\",\"census_blocks.shp\")\n",
      "blocks = \"H:/GEOG_458/Labs/Lab1\\\\census_blocks.dbf\"\n"
     ],
     "language": "python",
     "metadata": {},
     "outputs": [],
     "prompt_number": 6
    },
    {
     "cell_type": "code",
     "collapsed": false,
     "input": [
      "county_names = \"WashingtonFIPS.dbf\"\n",
      "\n",
      "#   joining the Census blocks to the county names table by the FIPS number so that county name \n",
      "#   can be acessed by just the blocks file\n",
      "arcpy.JoinField_management(blocks, \"COUNTYFP10\", county_names, \"FIPSCounty\", [\"CountyName\"])\n",
      "\n"
     ],
     "language": "python",
     "metadata": {},
     "outputs": [
      {
       "metadata": {},
       "output_type": "pyout",
       "prompt_number": 7,
       "text": [
        "<Result 'H:/GEOG_458/Labs/Lab1\\\\census_blocks.dbf'>"
       ]
      }
     ],
     "prompt_number": 7
    },
    {
     "cell_type": "code",
     "collapsed": false,
     "input": [
      "# creating an empty list which will then have county names added to it\n",
      "counties =[\"Test County\"]\n",
      "\n",
      "#this loop adds all the county names to my county list for later use\n",
      "with arcpy.da.SearchCursor(blocks,[\"CountyName\"]) as my_cursor:\n",
      "    for my_row in my_cursor:\n",
      "        if counties[-1] == my_row[0]:\n",
      "            continue\n",
      "        else:\n",
      "            counties.append(my_row[0])\n",
      "\n",
      "del my_cursor\n",
      "del counties[0]\n",
      "print counties"
     ],
     "language": "python",
     "metadata": {},
     "outputs": [
      {
       "output_type": "stream",
       "stream": "stdout",
       "text": [
        "[u'Adams', u'Asotin', u'Benton', u'Chelan', u'Clallam', u'Clark', u'Columbia', u'Cowlitz', u'Douglas', u'Ferry', u'Franklin', u'Garfield', u'Grant', u'Grays Harbor', u'Island', u'Jefferson', u'King', u'Kitsap', u'Kittitas', u'Klickitat', u'Lewis', u'Lincoln', u'Mason', u'Okanogan', u'Pacific', u'Pend Oreille', u'Pierce', u'San Juan', u'Skagit', u'Skamania', u'Snohomish', u'Spokane', u'Stevens', u'Thurston', u'Wahkiakum', u'Walla Walla', u'Whatcom', u'Whitman', u'Yakima']\n"
       ]
      }
     ],
     "prompt_number": 8
    },
    {
     "cell_type": "code",
     "collapsed": false,
     "input": [
      "#this block creates a new layer from the original census blocks and then selects only the blocks within a county \n",
      "#and lastly creates a new layer from the selection.\n",
      "arcpy.env.workspace = \"H:\\\\GEOG_458\\\\Labs\\\\Lab1\\\\output\"\n",
      "\n",
      "arcpy.env.overwriteOutput = True #allows me to overwrite files that have already been created, so I can re run my code for testing\n",
      "\n",
      "num_counties = len(counties) # new variable assigned to the length of the list of county names\n",
      "\n",
      "arcpy.MakeFeatureLayer_management(blocks, \"temp.shp\")#creates the initial file to be copied and altered\n",
      "\n",
      "for count in counties: #for loop running through my list of counties\n",
      "    arcpy.SelectLayerByAttribute_management(\"temp.shp\", \"NEW_SELECTION\", \" \\\"CountyName\\\" = '\"+count+\"'\") #selecting blocks by county name\n",
      "    arcpy.CopyFeatures_management(\"temp.shp\", count + \".shp\") #lastly grouping those blocks into a new shapefile by county\n",
      "   "
     ],
     "language": "python",
     "metadata": {},
     "outputs": [],
     "prompt_number": 9
    },
    {
     "cell_type": "code",
     "collapsed": false,
     "input": [
      "from subprocess import call\n",
      "import os\n",
      "\n",
      "os.environ[\"GDAL_DATA\"] = \"C:\\\\OSGeo4W\\\\share\\\\gdal\"\n",
      "os.environ[\"GDAL_DRIVER_PATH\"] = \"C:\\\\OSGeo4W\\\\bin\\\\gdalplugins\"\n",
      "os.environ[\"PROJ_LIB\"] = \"C:\\\\OSGeo4W\\\\share\\\\proj\"\n",
      "os.environ[\"PATH\"] = \"C:\\\\OSGeo4W\\\\bin;\"+os.environ[\"PATH\"]+\";C:\\\\OSGeo4W\\\\apps\\\\msys\\\\bin;C:\\\\OSGeo4W\\\\apps\\\\Python27\\\\Scripts\""
     ],
     "language": "python",
     "metadata": {},
     "outputs": [],
     "prompt_number": 10
    },
    {
     "cell_type": "code",
     "collapsed": false,
     "input": [
      "for tester in counties:\n",
      "    jason = \"H:\\\\GEOG_458\\\\Labs\\\\Lab1\\\\output\\\\\" + tester + \".geojson\"\n",
      "    shape = \"H:\\\\GEOG_458\\\\Labs\\\\Lab1\\\\output\\\\\" + tester + \".shp\"\n",
      "    call(['C:\\\\OSGeo4W\\\\bin\\\\ogr2ogr',\n",
      "      '-f','GeoJSON','-t_srs','WGS84',\n",
      "      '-s_srs','EPSG:2927', jason, shape]) "
     ],
     "language": "python",
     "metadata": {},
     "outputs": [],
     "prompt_number": 14
    },
    {
     "cell_type": "code",
     "collapsed": false,
     "input": [
      "county_shp = arcpy.ListFeatureClasses()\n",
      "print county_shp\n"
     ],
     "language": "python",
     "metadata": {},
     "outputs": [
      {
       "output_type": "stream",
       "stream": "stdout",
       "text": [
        "[u'Adams.shp', u'Asotin.shp', u'Benton.shp', u'Chelan.shp', u'Clallam.shp', u'Clark.shp', u'Columbia.shp', u'Cowlitz.shp', u'Douglas.shp', u'Ferry.shp', u'Franklin.shp', u'Garfield.shp', u'Grant.shp', u'Grays Harbor.shp', u'Island.shp', u'Jefferson.shp', u'King.shp', u'Kitsap.shp', u'Kittitas.shp', u'Klickitat.shp', u'Lewis.shp', u'Lincoln.shp', u'Mason.shp', u'Okanogan.shp', u'Pacific.shp', u'Pend Oreille.shp', u'Pierce.shp', u'San Juan.shp', u'Skagit.shp', u'Skamania.shp', u'Snohomish.shp', u'Spokane.shp', u'Stevens.shp', u'Thurston.shp', u'Wahkiakum.shp', u'Walla Walla.shp', u'Whatcom.shp', u'Whitman.shp', u'Yakima.shp']\n"
       ]
      }
     ],
     "prompt_number": 18
    },
    {
     "cell_type": "code",
     "collapsed": false,
     "input": [
      "populations = [] #creates and empty list for the population totals to be added to\n",
      "\n",
      "# this code finds the populations for each block, totals them into one population for the whole county \n",
      "# and then adds that total to the list of populations for the county. \n",
      "for name in county_shp:\n",
      "    with arcpy.da.SearchCursor(str(name),[\"POP2013\"]) as my_cursor:\n",
      "        tot_pop = 0\n",
      "        for my_row in my_cursor:\n",
      "            tot_pop = tot_pop + my_row[0]\n",
      "        populations.append(tot_pop)\n",
      "        \n",
      "        del my_cursor\n",
      "        del my_row\n"
     ],
     "language": "python",
     "metadata": {},
     "outputs": [],
     "prompt_number": 30
    },
    {
     "cell_type": "code",
     "collapsed": false,
     "input": [
      "populations.sort(reverse = True) #reverse sorting the table for the biggest value is at the front and then it decends "
     ],
     "language": "python",
     "metadata": {},
     "outputs": [],
     "prompt_number": 31
    },
    {
     "cell_type": "code",
     "collapsed": false,
     "input": [
      "print populations[0:9]# prints out the first 10 list items, which are the 10 most populous counties in Washington\n"
     ],
     "language": "python",
     "metadata": {},
     "outputs": [
      {
       "output_type": "stream",
       "stream": "stdout",
       "text": [
        "[1981899.9999999998, 814500.0000000006, 730500.0000000005, 479999.99999999994, 435499.99999999977, 260100.00000000006, 253999.99999999997, 247250.00000000003, 205799.9999999999]\n"
       ]
      }
     ],
     "prompt_number": 33
    },
    {
     "cell_type": "code",
     "collapsed": false,
     "input": [],
     "language": "python",
     "metadata": {},
     "outputs": []
    }
   ],
   "metadata": {}
  }
 ]
}